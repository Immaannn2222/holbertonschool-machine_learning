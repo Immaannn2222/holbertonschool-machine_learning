{
  "nbformat": 4,
  "nbformat_minor": 0,
  "metadata": {
    "colab": {
      "name": "preprocess_data",
      "provenance": []
    },
    "kernelspec": {
      "name": "python3",
      "display_name": "Python 3"
    },
    "language_info": {
      "name": "python"
    }
  },
  "cells": [
    {
      "cell_type": "code",
      "metadata": {
        "id": "gj-X7H9I12mB",
        "colab": {
          "base_uri": "https://localhost:8080/"
        },
        "outputId": "0a281460-5788-4b5c-8de5-33bf913ec4d8"
      },
      "source": [
        "import pandas as pd\n",
        "import numpy as np\n",
        "\n",
        "\n",
        "bitcoin = pd.read_csv('bitstampUSD_1-min_data_2012-01-01_to_2020-04-22.csv')\n",
        "print(bitcoin.shape)\n",
        "bitcoin_set = bitcoin.dropna() #dropping the nan values\n",
        "print(bitcoin_set.head(5))\n",
        "print(bitcoin_set.shape)"
      ],
      "execution_count": 27,
      "outputs": [
        {
          "output_type": "stream",
          "text": [
            "(647618, 8)\n",
            "       Timestamp  Open  High  ...  Volume_(BTC)  Volume_(Currency)  Weighted_Price\n",
            "0     1325317920  4.39  4.39  ...      0.455581           2.000000        4.390000\n",
            "478   1325346600  4.39  4.39  ...     48.000000         210.720000        4.390000\n",
            "547   1325350740  4.50  4.57  ...     37.862297         171.380338        4.526411\n",
            "548   1325350800  4.58  4.58  ...      9.000000          41.220000        4.580000\n",
            "1224  1325391360  4.58  4.58  ...      1.502000           6.879160        4.580000\n",
            "\n",
            "[5 rows x 8 columns]\n",
            "(47859, 8)\n"
          ],
          "name": "stdout"
        }
      ]
    },
    {
      "cell_type": "markdown",
      "metadata": {
        "id": "IU1vuIuq4WyO"
      },
      "source": [
        "Discovering the dataset, its shape\n"
      ]
    },
    {
      "cell_type": "code",
      "metadata": {
        "colab": {
          "base_uri": "https://localhost:8080/",
          "height": 424
        },
        "id": "K5fnbUmi4caL",
        "outputId": "275aae25-8c5d-4054-b7d3-9aa37281059e"
      },
      "source": [
        "bitcoin_set.drop(columns=['Low','High', 'Open', 'Close'], axis=0)\n",
        "#dropping the unneeded features"
      ],
      "execution_count": 31,
      "outputs": [
        {
          "output_type": "execute_result",
          "data": {
            "text/html": [
              "<div>\n",
              "<style scoped>\n",
              "    .dataframe tbody tr th:only-of-type {\n",
              "        vertical-align: middle;\n",
              "    }\n",
              "\n",
              "    .dataframe tbody tr th {\n",
              "        vertical-align: top;\n",
              "    }\n",
              "\n",
              "    .dataframe thead th {\n",
              "        text-align: right;\n",
              "    }\n",
              "</style>\n",
              "<table border=\"1\" class=\"dataframe\">\n",
              "  <thead>\n",
              "    <tr style=\"text-align: right;\">\n",
              "      <th></th>\n",
              "      <th>Timestamp</th>\n",
              "      <th>Volume_(BTC)</th>\n",
              "      <th>Volume_(Currency)</th>\n",
              "      <th>Weighted_Price</th>\n",
              "    </tr>\n",
              "  </thead>\n",
              "  <tbody>\n",
              "    <tr>\n",
              "      <th>0</th>\n",
              "      <td>1325317920</td>\n",
              "      <td>0.455581</td>\n",
              "      <td>2.000000</td>\n",
              "      <td>4.390000</td>\n",
              "    </tr>\n",
              "    <tr>\n",
              "      <th>478</th>\n",
              "      <td>1325346600</td>\n",
              "      <td>48.000000</td>\n",
              "      <td>210.720000</td>\n",
              "      <td>4.390000</td>\n",
              "    </tr>\n",
              "    <tr>\n",
              "      <th>547</th>\n",
              "      <td>1325350740</td>\n",
              "      <td>37.862297</td>\n",
              "      <td>171.380338</td>\n",
              "      <td>4.526411</td>\n",
              "    </tr>\n",
              "    <tr>\n",
              "      <th>548</th>\n",
              "      <td>1325350800</td>\n",
              "      <td>9.000000</td>\n",
              "      <td>41.220000</td>\n",
              "      <td>4.580000</td>\n",
              "    </tr>\n",
              "    <tr>\n",
              "      <th>1224</th>\n",
              "      <td>1325391360</td>\n",
              "      <td>1.502000</td>\n",
              "      <td>6.879160</td>\n",
              "      <td>4.580000</td>\n",
              "    </tr>\n",
              "    <tr>\n",
              "      <th>...</th>\n",
              "      <td>...</td>\n",
              "      <td>...</td>\n",
              "      <td>...</td>\n",
              "      <td>...</td>\n",
              "    </tr>\n",
              "    <tr>\n",
              "      <th>647572</th>\n",
              "      <td>1364172240</td>\n",
              "      <td>0.082000</td>\n",
              "      <td>5.680960</td>\n",
              "      <td>69.280000</td>\n",
              "    </tr>\n",
              "    <tr>\n",
              "      <th>647586</th>\n",
              "      <td>1364173080</td>\n",
              "      <td>0.161729</td>\n",
              "      <td>11.214285</td>\n",
              "      <td>69.340000</td>\n",
              "    </tr>\n",
              "    <tr>\n",
              "      <th>647589</th>\n",
              "      <td>1364173260</td>\n",
              "      <td>7.500000</td>\n",
              "      <td>526.500000</td>\n",
              "      <td>70.200000</td>\n",
              "    </tr>\n",
              "    <tr>\n",
              "      <th>647592</th>\n",
              "      <td>1364173440</td>\n",
              "      <td>6.674074</td>\n",
              "      <td>468.520000</td>\n",
              "      <td>70.200000</td>\n",
              "    </tr>\n",
              "    <tr>\n",
              "      <th>647612</th>\n",
              "      <td>1364174640</td>\n",
              "      <td>9.190092</td>\n",
              "      <td>645.236330</td>\n",
              "      <td>70.210000</td>\n",
              "    </tr>\n",
              "  </tbody>\n",
              "</table>\n",
              "<p>47859 rows × 4 columns</p>\n",
              "</div>"
            ],
            "text/plain": [
              "         Timestamp  Volume_(BTC)  Volume_(Currency)  Weighted_Price\n",
              "0       1325317920      0.455581           2.000000        4.390000\n",
              "478     1325346600     48.000000         210.720000        4.390000\n",
              "547     1325350740     37.862297         171.380338        4.526411\n",
              "548     1325350800      9.000000          41.220000        4.580000\n",
              "1224    1325391360      1.502000           6.879160        4.580000\n",
              "...            ...           ...                ...             ...\n",
              "647572  1364172240      0.082000           5.680960       69.280000\n",
              "647586  1364173080      0.161729          11.214285       69.340000\n",
              "647589  1364173260      7.500000         526.500000       70.200000\n",
              "647592  1364173440      6.674074         468.520000       70.200000\n",
              "647612  1364174640      9.190092         645.236330       70.210000\n",
              "\n",
              "[47859 rows x 4 columns]"
            ]
          },
          "metadata": {
            "tags": []
          },
          "execution_count": 31
        }
      ]
    },
    {
      "cell_type": "code",
      "metadata": {
        "colab": {
          "base_uri": "https://localhost:8080/",
          "height": 202
        },
        "id": "Lq-PE-oaNGNp",
        "outputId": "2283f868-56c6-448c-a050-bb7fb7171d70"
      },
      "source": [
        "import datetime\n",
        "#chnaging unisx time to standard readable time\n",
        "\n",
        "date_column = pd.to_datetime(bitcoin_set['Timestamp'], unit='s')\n",
        "bitcoin_set.assign(date_column)"
      ],
      "execution_count": 32,
      "outputs": [
        {
          "output_type": "error",
          "ename": "TypeError",
          "evalue": "ignored",
          "traceback": [
            "\u001b[0;31m---------------------------------------------------------------------------\u001b[0m",
            "\u001b[0;31mTypeError\u001b[0m                                 Traceback (most recent call last)",
            "\u001b[0;32m<ipython-input-32-0877ead76043>\u001b[0m in \u001b[0;36m<module>\u001b[0;34m()\u001b[0m\n\u001b[1;32m      3\u001b[0m \u001b[0;34m\u001b[0m\u001b[0m\n\u001b[1;32m      4\u001b[0m \u001b[0mdate_column\u001b[0m \u001b[0;34m=\u001b[0m \u001b[0mpd\u001b[0m\u001b[0;34m.\u001b[0m\u001b[0mto_datetime\u001b[0m\u001b[0;34m(\u001b[0m\u001b[0mbitcoin_set\u001b[0m\u001b[0;34m[\u001b[0m\u001b[0;34m'Timestamp'\u001b[0m\u001b[0;34m]\u001b[0m\u001b[0;34m,\u001b[0m \u001b[0munit\u001b[0m\u001b[0;34m=\u001b[0m\u001b[0;34m's'\u001b[0m\u001b[0;34m)\u001b[0m\u001b[0;34m\u001b[0m\u001b[0;34m\u001b[0m\u001b[0m\n\u001b[0;32m----> 5\u001b[0;31m \u001b[0mbitcoin_set\u001b[0m\u001b[0;34m.\u001b[0m\u001b[0massign\u001b[0m\u001b[0;34m(\u001b[0m\u001b[0mdate_column\u001b[0m\u001b[0;34m)\u001b[0m\u001b[0;34m\u001b[0m\u001b[0;34m\u001b[0m\u001b[0m\n\u001b[0m",
            "\u001b[0;31mTypeError\u001b[0m: assign() takes 1 positional argument but 2 were given"
          ]
        }
      ]
    },
    {
      "cell_type": "markdown",
      "metadata": {
        "id": "0qWoQ7YJ2EQP"
      },
      "source": [
        "# New Section"
      ]
    }
  ]
}